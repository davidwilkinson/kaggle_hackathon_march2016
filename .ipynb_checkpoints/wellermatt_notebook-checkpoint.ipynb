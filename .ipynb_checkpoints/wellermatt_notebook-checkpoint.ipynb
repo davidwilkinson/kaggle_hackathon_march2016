{
 "cells": [
  {
   "cell_type": "code",
   "execution_count": 2,
   "metadata": {
    "collapsed": false
   },
   "outputs": [
    {
     "name": "stdout",
     "output_type": "stream",
     "text": [
      "test.csv\n",
      "train.csv\n",
      "\n"
     ]
    }
   ],
   "source": [
    "import numpy as np # linear algebra\n",
    "import pandas as pd # data processing, CSV file I/O (e.g. pd.read_csv)\n",
    "\n",
    "# Input data files are available in the \"../input/\" directory.\n",
    "# For example, running this (by clicking run or pressing Shift+Enter) will list the files in the input directory\n",
    "\n",
    "from subprocess import check_output\n",
    "print(check_output([\"ls\", \"../kaggle_data\"]).decode(\"utf8\"))"
   ]
  },
  {
   "cell_type": "code",
   "execution_count": 10,
   "metadata": {
    "collapsed": false
   },
   "outputs": [
    {
     "name": "stdout",
     "output_type": "stream",
     "text": [
      "['ID' 'v1' 'v2' 'v3' 'v4' 'v5' 'v6' 'v7' 'v8' 'v9' 'v10' 'v11' 'v12' 'v13'\n",
      " 'v14' 'v15' 'v16' 'v17' 'v18' 'v19' 'v20' 'v21' 'v22' 'v23' 'v24' 'v25'\n",
      " 'v26' 'v27' 'v28' 'v29' 'v30' 'v31' 'v32' 'v33' 'v34' 'v35' 'v36' 'v37'\n",
      " 'v38' 'v39' 'v40' 'v41' 'v42' 'v43' 'v44' 'v45' 'v46' 'v47' 'v48' 'v49'\n",
      " 'v50' 'v51' 'v52' 'v53' 'v54' 'v55' 'v56' 'v57' 'v58' 'v59' 'v60' 'v61'\n",
      " 'v62' 'v63' 'v64' 'v65' 'v66' 'v67' 'v68' 'v69' 'v70' 'v71' 'v72' 'v73'\n",
      " 'v74' 'v75' 'v76' 'v77' 'v78' 'v79' 'v80' 'v81' 'v82' 'v83' 'v84' 'v85'\n",
      " 'v86' 'v87' 'v88' 'v89' 'v90' 'v91' 'v92' 'v93' 'v94' 'v95' 'v96' 'v97'\n",
      " 'v98' 'v99' 'v100' 'v101' 'v102' 'v103' 'v104' 'v105' 'v106' 'v107' 'v108'\n",
      " 'v109' 'v110' 'v111' 'v112' 'v113' 'v114' 'v115' 'v116' 'v117' 'v118'\n",
      " 'v119' 'v120' 'v121' 'v122' 'v123' 'v124' 'v125' 'v126' 'v127' 'v128'\n",
      " 'v129' 'v130' 'v131']\n",
      "['ID' 'v1' 'v2' 'v3' 'v4' 'v5' 'v6' 'v7' 'v8' 'v9' 'v10' 'v11' 'v12' 'v13'\n",
      " 'v14' 'v15' 'v16' 'v17' 'v18' 'v19' 'v20' 'v21' 'v22' 'v23' 'v24' 'v25'\n",
      " 'v26' 'v27' 'v28' 'v29' 'v30' 'v31' 'v32' 'v33' 'v34' 'v35' 'v36' 'v37'\n",
      " 'v38' 'v39' 'v40' 'v41' 'v42' 'v43' 'v44' 'v45' 'v46' 'v47' 'v48' 'v49'\n",
      " 'v50' 'v51' 'v52' 'v53' 'v54' 'v55' 'v56' 'v57' 'v58' 'v59' 'v60' 'v61'\n",
      " 'v62' 'v63' 'v64' 'v65' 'v66' 'v67' 'v68' 'v69' 'v70' 'v71' 'v72' 'v73'\n",
      " 'v74' 'v75' 'v76' 'v77' 'v78' 'v79' 'v80' 'v81' 'v82' 'v83' 'v84' 'v85'\n",
      " 'v86' 'v87' 'v88' 'v89' 'v90' 'v91' 'v92' 'v93' 'v94' 'v95' 'v96' 'v97'\n",
      " 'v98' 'v99' 'v100' 'v101' 'v102' 'v103' 'v104' 'v105' 'v106' 'v107' 'v108'\n",
      " 'v109' 'v110' 'v111' 'v112' 'v113' 'v114' 'v115' 'v116' 'v117' 'v118'\n",
      " 'v119' 'v120' 'v121' 'v122' 'v123' 'v124' 'v125' 'v126' 'v127' 'v128'\n",
      " 'v129' 'v130' 'v131']\n",
      "[ True  True  True  True  True  True  True  True  True  True  True  True\n",
      "  True  True  True  True  True  True  True  True  True  True  True  True\n",
      "  True  True  True  True  True  True  True  True  True  True  True  True\n",
      "  True  True  True  True  True  True  True  True  True  True  True  True\n",
      "  True  True  True  True  True  True  True  True  True  True  True  True\n",
      "  True  True  True  True  True  True  True  True  True  True  True  True\n",
      "  True  True  True  True  True  True  True  True  True  True  True  True\n",
      "  True  True  True  True  True  True  True  True  True  True  True  True\n",
      "  True  True  True  True  True  True  True  True  True  True  True  True\n",
      "  True  True  True  True  True  True  True  True  True  True  True  True\n",
      "  True  True  True  True  True  True  True  True  True  True  True  True]\n"
     ]
    }
   ],
   "source": [
    "train = pd.read_csv('../kaggle_data/train.csv')\n",
    "test = pd.read_csv('../kaggle_data/test.csv')\n",
    "\n",
    "y_train = train['target']\n",
    "train = train.drop(['target'], axis=1)\n",
    "\n",
    "print(train.columns.values)\n",
    "print(test.columns.values)\n",
    "print(train.columns.values == test.columns.values)\n",
    "id_test = test['ID']"
   ]
  },
  {
   "cell_type": "code",
   "execution_count": 7,
   "metadata": {
    "collapsed": false
   },
   "outputs": [
    {
     "name": "stdout",
     "output_type": "stream",
     "text": [
      "   ID  target        v1        v2   v3        v4         v5        v6  \\\n",
      "0   3       1  1.335739  8.727474    C  3.921026   7.915266  2.599278   \n",
      "1   4       1       NaN       NaN    C       NaN   9.191265       NaN   \n",
      "2   5       1  0.943877  5.310079    C  4.410969   5.326159  3.979592   \n",
      "3   6       1  0.797415  8.304757    C  4.225930  11.627438  2.097700   \n",
      "4   8       1       NaN       NaN    C       NaN        NaN       NaN   \n",
      "5   9       0       NaN       NaN    C       NaN   8.856791       NaN   \n",
      "6  12       0  0.899806  7.312995    C  3.494148   9.946200  1.926070   \n",
      "7  21       1       NaN       NaN    C       NaN        NaN       NaN   \n",
      "8  22       0  2.078651  8.462619  NaN  3.739030   5.265636  1.573033   \n",
      "9  23       1  1.144802  5.880606    C  3.244469   9.538384  2.500001   \n",
      "\n",
      "         v7        v8    ...         v122      v123      v124  v125      v126  \\\n",
      "0  3.176895  0.012941    ...     8.000000  1.989780  0.035754    AU  1.804126   \n",
      "1       NaN  2.301630    ...          NaN       NaN  0.598896    AF       NaN   \n",
      "2  3.928571  0.019645    ...     9.333333  2.477596  0.013452    AE  1.773709   \n",
      "3  1.987549  0.171947    ...     7.018256  1.812795  0.002267    CJ  1.415230   \n",
      "4       NaN       NaN    ...          NaN       NaN       NaN     Z       NaN   \n",
      "5       NaN  0.359993    ...          NaN       NaN  0.049861     X       NaN   \n",
      "6  1.770427  0.066251    ...     3.476299  1.992594  0.083758    BJ  3.276100   \n",
      "7       NaN       NaN    ...          NaN       NaN       NaN    BY       NaN   \n",
      "8  2.303371  0.015869    ...     8.148148  1.875560  0.018659     S  1.159637   \n",
      "9  1.559405  0.412610    ...     7.325843  4.896617  0.008944     E  1.344550   \n",
      "\n",
      "       v127      v128  v129      v130      v131  \n",
      "0  3.113719  2.024285     0  0.636365  2.857144  \n",
      "1       NaN  1.957825     0       NaN       NaN  \n",
      "2  3.922193  1.120468     2  0.883118  1.176472  \n",
      "3  2.954381  1.990847     1  1.677108  1.034483  \n",
      "4       NaN       NaN     0       NaN       NaN  \n",
      "5       NaN  1.536222     0       NaN       NaN  \n",
      "6  1.623298  2.266575     0  2.263736  0.970873  \n",
      "7       NaN       NaN     0       NaN       NaN  \n",
      "8  5.582865  1.105283     0  1.170731  3.333334  \n",
      "9  1.601176  1.928009     0  3.174603  1.000000  \n",
      "\n",
      "[10 rows x 133 columns]\n"
     ]
    }
   ],
   "source": []
  },
  {
   "cell_type": "code",
   "execution_count": null,
   "metadata": {
    "collapsed": true
   },
   "outputs": [],
   "source": []
  }
 ],
 "metadata": {
  "kernelspec": {
   "display_name": "Python 3",
   "language": "python",
   "name": "python3"
  },
  "language_info": {
   "codemirror_mode": {
    "name": "ipython",
    "version": 3
   },
   "file_extension": ".py",
   "mimetype": "text/x-python",
   "name": "python",
   "nbconvert_exporter": "python",
   "pygments_lexer": "ipython3",
   "version": "3.4.3"
  }
 },
 "nbformat": 4,
 "nbformat_minor": 0
}
