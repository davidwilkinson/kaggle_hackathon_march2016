{
 "cells": [
  {
   "cell_type": "code",
   "execution_count": 12,
   "metadata": {
    "collapsed": false
   },
   "outputs": [
    {
     "name": "stdout",
     "output_type": "stream",
     "text": [
      "test.csv\n",
      "train.csv\n",
      "\n"
     ]
    }
   ],
   "source": [
    "import numpy as np # linear algebra\n",
    "import pandas as pd # data processing, CSV file I/O (e.g. pd.read_csv)\n",
    "\n",
    "import matplotlib.pyplot as plt\n",
    "%matplotlib inline\n",
    "# Input data files are available in the \"../input/\" directory.\n",
    "# For example, running this (by clicking run or pressing Shift+Enter) will list the files in the input directory\n",
    "\n",
    "from subprocess import check_output\n",
    "print(check_output([\"ls\", \"../kaggle_data\"]).decode(\"utf8\"))"
   ]
  },
  {
   "cell_type": "code",
   "execution_count": 2,
   "metadata": {
    "collapsed": false
   },
   "outputs": [
    {
     "name": "stdout",
     "output_type": "stream",
     "text": [
      "114321\n"
     ]
    }
   ],
   "source": [
    "train = pd.read_csv('../kaggle_data/train.csv')\n",
    "test = pd.read_csv('../kaggle_data/test.csv')\n",
    "y_train = train['target']\n",
    "train = train.drop(['target'], axis=1)\n",
    "print(len(train))"
   ]
  },
  {
   "cell_type": "code",
   "execution_count": 8,
   "metadata": {
    "collapsed": false
   },
   "outputs": [],
   "source": [
    "\n",
    "train['null_count'] =  train.isnull().sum(axis=1)\n"
   ]
  },
  {
   "cell_type": "code",
   "execution_count": 4,
   "metadata": {
    "collapsed": false
   },
   "outputs": [
    {
     "name": "stdout",
     "output_type": "stream",
     "text": [
      "1      28488\n",
      "101    26967\n",
      "0      17756\n",
      "102    15262\n",
      "2      14179\n",
      "100     4417\n",
      "3       1690\n",
      "4       1377\n",
      "82      1049\n",
      "103      708\n",
      "25       570\n",
      "83       458\n",
      "81       457\n",
      "26       254\n",
      "104      216\n",
      "105       83\n",
      "27        47\n",
      "84        43\n",
      "5         41\n",
      "85        41\n",
      "107       35\n",
      "6         33\n",
      "108       26\n",
      "106       23\n",
      "65        19\n",
      "7         16\n",
      "64        11\n",
      "109        6\n",
      "8          5\n",
      "9          5\n",
      "66         5\n",
      "16         4\n",
      "10         4\n",
      "13         4\n",
      "18         3\n",
      "12         3\n",
      "28         2\n",
      "11         1\n",
      "29         1\n",
      "14         1\n",
      "17         1\n",
      "38         1\n",
      "68         1\n",
      "37         1\n",
      "33         1\n",
      "110        1\n",
      "86         1\n",
      "87         1\n",
      "88         1\n",
      "32         1\n",
      "118        1\n",
      "dtype: int64\n"
     ]
    }
   ],
   "source": [
    "null_count\n",
    "print(null_count.value_counts())"
   ]
  },
  {
   "cell_type": "code",
   "execution_count": 41,
   "metadata": {
    "collapsed": false
   },
   "outputs": [
    {
     "data": {
      "text/plain": [
       "v113    52.852650\n",
       "v30     37.323479\n",
       "v56      5.439535\n",
       "v31      4.352886\n",
       "v3       4.352886\n",
       "v102     0.990722\n",
       "v21      0.507942\n",
       "v22      0.360120\n",
       "v112     0.100645\n",
       "v131     0.067621\n",
       "v78      0.067621\n",
       "v69      0.067621\n",
       "v115     0.067621\n",
       "v16      0.067621\n",
       "v87      0.053468\n",
       "v105     0.053468\n",
       "v98      0.039314\n",
       "v125     0.025161\n",
       "v12      0.022016\n",
       "v50      0.022016\n",
       "v34      0.022016\n",
       "v40      0.022016\n",
       "v10      0.022016\n",
       "v70      0.012581\n",
       "v51      0.007863\n",
       "v119     0.007863\n",
       "v85      0.007863\n",
       "v123     0.007863\n",
       "v23      0.007863\n",
       "v80      0.006290\n",
       "          ...    \n",
       "v95      0.000000\n",
       "v93      0.000000\n",
       "v59      0.000000\n",
       "v92      0.000000\n",
       "v60      0.000000\n",
       "v61      0.000000\n",
       "v62      0.000000\n",
       "v63      0.000000\n",
       "v64      0.000000\n",
       "v65      0.000000\n",
       "v67      0.000000\n",
       "v68      0.000000\n",
       "v71      0.000000\n",
       "v72      0.000000\n",
       "v73      0.000000\n",
       "v74      0.000000\n",
       "v75      0.000000\n",
       "v76      0.000000\n",
       "v77      0.000000\n",
       "v79      0.000000\n",
       "v81      0.000000\n",
       "v82      0.000000\n",
       "v83      0.000000\n",
       "v84      0.000000\n",
       "v86      0.000000\n",
       "v88      0.000000\n",
       "v89      0.000000\n",
       "v90      0.000000\n",
       "v91      0.000000\n",
       "ID       0.000000\n",
       "dtype: float64"
      ]
     },
     "execution_count": 41,
     "metadata": {},
     "output_type": "execute_result"
    }
   ],
   "source": [
    "train_grp1 = train[train['null_count']<10]\n",
    "grp1_count = len(train_grp1)\n",
    "grp1_col_nans = train_grp1.isnull().sum()/grp1_count\n",
    "100*grp1_col_nans.order(ascending=False)\n"
   ]
  },
  {
   "cell_type": "code",
   "execution_count": 16,
   "metadata": {
    "collapsed": false
   },
   "outputs": [
    {
     "data": {
      "text/plain": [
       "<matplotlib.axes._subplots.AxesSubplot at 0x11a58b390>"
      ]
     },
     "execution_count": 16,
     "metadata": {},
     "output_type": "execute_result"
    },
    {
     "data": {
      "image/png": "[encoded data removed]",
      "text/plain": [
       "<matplotlib.figure.Figure at 0x119564a58>"
      ]
     },
     "metadata": {},
     "output_type": "display_data"
    }
   ],
   "source": [
    "train['null_count'].hist(bins=50)"
   ]
  },
  {
   "cell_type": "code",
   "execution_count": null,
   "metadata": {
    "collapsed": true
   },
   "outputs": [],
   "source": []
  }
 ],
 "metadata": {
  "kernelspec": {
   "display_name": "Python 3",
   "language": "python",
   "name": "python3"
  },
  "language_info": {
   "codemirror_mode": {
    "name": "ipython",
    "version": 3
   },
   "file_extension": ".py",
   "mimetype": "text/x-python",
   "name": "python",
   "nbconvert_exporter": "python",
   "pygments_lexer": "ipython3",
   "version": "3.4.3"
  }
 },
 "nbformat": 4,
 "nbformat_minor": 0
}
