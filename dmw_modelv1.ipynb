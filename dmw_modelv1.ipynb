{
 "cells": [
  {
   "cell_type": "code",
   "execution_count": 2,
   "metadata": {
    "collapsed": false
   },
   "outputs": [],
   "source": [
    "import numpy as np\n",
    "import pandas as pd\n",
    "import sklearn\n",
    "from sklearn.cross_validation import train_test_split\n",
    "import matplotlib.pyplot as plt\n",
    "%matplotlib inline\n",
    "pd.set_option('display.max_columns', 500)"
   ]
  },
  {
   "cell_type": "code",
   "execution_count": 3,
   "metadata": {
    "collapsed": true
   },
   "outputs": [],
   "source": [
    "data_dir = '../kaggle_data/'"
   ]
  },
  {
   "cell_type": "code",
   "execution_count": 4,
   "metadata": {
    "collapsed": true
   },
   "outputs": [],
   "source": [
    "kaggle_train = data_dir+'train.csv'"
   ]
  },
  {
   "cell_type": "code",
   "execution_count": 5,
   "metadata": {
    "collapsed": false
   },
   "outputs": [],
   "source": [
    "df = pd.read_csv(kaggle_train)\n",
    "#df_train,df_cv = train_test_split(pd.read_csv(kaggle_train))"
   ]
  },
  {
   "cell_type": "code",
   "execution_count": 6,
   "metadata": {
    "collapsed": false
   },
   "outputs": [],
   "source": [
    "#df_train.sortlevel()"
   ]
  },
  {
   "cell_type": "code",
   "execution_count": 111,
   "metadata": {
    "collapsed": false
   },
   "outputs": [],
   "source": [
    "person_id = df['ID']\n",
    "y_df = df['target']\n",
    "y_df.index = df['ID']\n",
    "category_features = ['v24','v30','v31','v47','v52','v56','v66',\\\n",
    "                     'v74','v75','v79','v91','v107','v110','v112','v113','v125']\n",
    "complicated_category_features = ['v3','v22','v52','v71']\n",
    "integer_features = ['v38','v62','v72','v129']\n",
    "\n",
    "non_numeric = ['ID','target']+category_features+complicated_category_features\n",
    "numeric_features = []\n",
    "for c in df.columns:\n",
    "    if c not in non_numeric:\n",
    "        numeric_features.append(c)\n"
   ]
  },
  {
   "cell_type": "code",
   "execution_count": 127,
   "metadata": {
    "collapsed": false
   },
   "outputs": [],
   "source": [
    "# df[integer_features]"
   ]
  },
  {
   "cell_type": "code",
   "execution_count": 113,
   "metadata": {
    "collapsed": true
   },
   "outputs": [],
   "source": [
    "df_cat = df[category_features]\n",
    "df_cat.index = df['ID']"
   ]
  },
  {
   "cell_type": "code",
   "execution_count": 114,
   "metadata": {
    "collapsed": false
   },
   "outputs": [],
   "source": [
    "df_cat = pd.get_dummies(df_cat,dummy_na=True)"
   ]
  },
  {
   "cell_type": "code",
   "execution_count": 115,
   "metadata": {
    "collapsed": false,
    "scrolled": false
   },
   "outputs": [],
   "source": [
    "# for c in df_cat.columns.values:\n",
    "#     print(c)\n",
    "#     print(df_cat[c].value_counts())"
   ]
  },
  {
   "cell_type": "code",
   "execution_count": 116,
   "metadata": {
    "collapsed": false
   },
   "outputs": [],
   "source": [
    "df_num = df[numeric_features]\n"
   ]
  },
  {
   "cell_type": "code",
   "execution_count": 117,
   "metadata": {
    "collapsed": false
   },
   "outputs": [
    {
     "name": "stderr",
     "output_type": "stream",
     "text": [
      "//anaconda/lib/python3.5/site-packages/ipykernel/__main__.py:2: SettingWithCopyWarning: \n",
      "A value is trying to be set on a copy of a slice from a DataFrame.\n",
      "Try using .loc[row_indexer,col_indexer] = value instead\n",
      "\n",
      "See the caveats in the documentation: http://pandas.pydata.org/pandas-docs/stable/indexing.html#indexing-view-versus-copy\n",
      "  from ipykernel import kernelapp as app\n"
     ]
    }
   ],
   "source": [
    "for c in df_num.columns.values:\n",
    "    df_num[c] = df_num[c].fillna(df_num[c].mean())\n",
    "df_num.index = df['ID']"
   ]
  },
  {
   "cell_type": "code",
   "execution_count": 118,
   "metadata": {
    "collapsed": false
   },
   "outputs": [],
   "source": [
    "X_df = df_num.merge(df_cat,how='inner',left_index=True,right_index=True)\n"
   ]
  },
  {
   "cell_type": "code",
   "execution_count": 119,
   "metadata": {
    "collapsed": false
   },
   "outputs": [],
   "source": [
    "X_df['Target'] = y_df.values"
   ]
  },
  {
   "cell_type": "code",
   "execution_count": 120,
   "metadata": {
    "collapsed": false
   },
   "outputs": [],
   "source": [
    "df_train,df_test = train_test_split(X_df)"
   ]
  },
  {
   "cell_type": "code",
   "execution_count": 121,
   "metadata": {
    "collapsed": false
   },
   "outputs": [],
   "source": [
    "y_df_train = df_train['Target']\n",
    "X_df_train = df_train.drop(['Target'],axis=1)\n",
    "y_df_test = df_test['Target']\n",
    "X_df_test = df_test.drop(['Target'],axis=1)\n"
   ]
  },
  {
   "cell_type": "code",
   "execution_count": 157,
   "metadata": {
    "collapsed": false
   },
   "outputs": [],
   "source": [
    "X_train = X_df_train.values\n",
    "y_train = y_df_train.values\n",
    "X_test = X_df_test.values\n",
    "y_test = y_df_test.values\n",
    "\n",
    "# X_train = X_df_train[imp_features].values\n",
    "# y_train = y_df_train.values\n",
    "# X_test = X_df_test[imp_features].values\n",
    "# y_test = y_df_test.values"
   ]
  },
  {
   "cell_type": "code",
   "execution_count": 158,
   "metadata": {
    "collapsed": false
   },
   "outputs": [],
   "source": [
    "from sklearn.linear_model import LogisticRegression\n",
    "from sklearn.ensemble import RandomForestClassifier"
   ]
  },
  {
   "cell_type": "code",
   "execution_count": 159,
   "metadata": {
    "collapsed": false
   },
   "outputs": [
    {
     "data": {
      "text/plain": [
       "RandomForestClassifier(bootstrap=True, class_weight=None, criterion='gini',\n",
       "            max_depth=None, max_features='auto', max_leaf_nodes=None,\n",
       "            min_samples_leaf=1, min_samples_split=2,\n",
       "            min_weight_fraction_leaf=0.0, n_estimators=10, n_jobs=1,\n",
       "            oob_score=False, random_state=None, verbose=0,\n",
       "            warm_start=False)"
      ]
     },
     "execution_count": 159,
     "metadata": {},
     "output_type": "execute_result"
    }
   ],
   "source": [
    "clf = LogisticRegression()\n",
    "clf = RandomForestClassifier()\n",
    "clf.fit(X_train,y_train)"
   ]
  },
  {
   "cell_type": "code",
   "execution_count": 160,
   "metadata": {
    "collapsed": false
   },
   "outputs": [
    {
     "data": {
      "text/plain": [
       "(85740, 155)"
      ]
     },
     "execution_count": 160,
     "metadata": {},
     "output_type": "execute_result"
    }
   ],
   "source": [
    "np.shape(X_train)"
   ]
  },
  {
   "cell_type": "code",
   "execution_count": 161,
   "metadata": {
    "collapsed": false
   },
   "outputs": [
    {
     "name": "stdout",
     "output_type": "stream",
     "text": [
      "TRAINING SET:\n"
     ]
    },
    {
     "data": {
      "image/png": "[encoded data removed]",
      "text/plain": [
       "<matplotlib.figure.Figure at 0x13ee56438>"
      ]
     },
     "metadata": {},
     "output_type": "display_data"
    },
    {
     "name": "stdout",
     "output_type": "stream",
     "text": [
      "TEST SET:\n"
     ]
    },
    {
     "data": {
      "image/png": "[encoded data removed]",
      "text/plain": [
       "<matplotlib.figure.Figure at 0x123fcfc50>"
      ]
     },
     "metadata": {},
     "output_type": "display_data"
    }
   ],
   "source": [
    "# Predictions on training\n",
    "print(\"TRAINING SET:\")\n",
    "import seaborn as sns\n",
    "from sklearn.metrics import confusion_matrix\n",
    "ax = sns.heatmap(confusion_matrix(clf.predict(X_train),y_train))\n",
    "ax.set_xlabel('Input')\n",
    "ax.set_ylabel('Prediction')\n",
    "plt.show()\n",
    "\n",
    "# Predictions on test\n",
    "print(\"TEST SET:\")\n",
    "import seaborn as sns\n",
    "from sklearn.metrics import confusion_matrix\n",
    "ax = sns.heatmap(confusion_matrix(clf.predict(X_test),y_test))\n",
    "ax.set_xlabel('Input')\n",
    "ax.set_ylabel('Prediction')\n",
    "plt.show()"
   ]
  },
  {
   "cell_type": "code",
   "execution_count": 162,
   "metadata": {
    "collapsed": false,
    "scrolled": false
   },
   "outputs": [
    {
     "name": "stdout",
     "output_type": "stream",
     "text": [
      "Feature ranking:\n",
      "1. feature v49 (0.079302)\n",
      "2. feature v12 (0.039831)\n",
      "3. feature v111 (0.037153)\n",
      "4. feature v39 (0.035726)\n",
      "5. feature v21 (0.035685)\n",
      "6. feature v14 (0.034470)\n",
      "7. feature v34 (0.034063)\n",
      "8. feature v10 (0.034014)\n",
      "9. feature v52_G (0.009324)\n",
      "10. feature v61 (0.008221)\n",
      "11. feature v47_D (0.007749)\n",
      "12. feature v24_E (0.007566)\n",
      "13. feature v47_C (0.007341)\n",
      "14. feature v52_nan (0.006726)\n",
      "15. feature v70 (0.006662)\n",
      "16. feature v47_B (0.006276)\n",
      "17. feature v81 (0.005878)\n",
      "18. feature v97 (0.005711)\n",
      "19. feature v116 (0.005579)\n",
      "20. feature v68 (0.005567)\n",
      "21. feature v1 (0.005467)\n",
      "22. feature v44 (0.005369)\n",
      "23. feature v119 (0.005348)\n",
      "24. feature v122 (0.005324)\n",
      "25. feature v124 (0.005312)\n",
      "26. feature v28 (0.005306)\n",
      "27. feature v98 (0.005215)\n",
      "28. feature v6 (0.005203)\n",
      "29. feature v37 (0.005188)\n",
      "30. feature v55 (0.005116)\n",
      "31. feature v5 (0.005109)\n",
      "32. feature v118 (0.005099)\n",
      "33. feature v127 (0.005098)\n",
      "34. feature v123 (0.005096)\n",
      "35. feature v69 (0.005049)\n",
      "36. feature v77 (0.005044)\n",
      "37. feature v47_G (0.005041)\n",
      "38. feature v86 (0.005035)\n",
      "39. feature v109 (0.005020)\n",
      "40. feature v114 (0.005019)\n",
      "41. feature v101 (0.005017)\n",
      "42. feature v89 (0.004976)\n",
      "43. feature v18 (0.004958)\n",
      "44. feature v42 (0.004945)\n",
      "45. feature v85 (0.004944)\n",
      "46. feature v108 (0.004938)\n",
      "47. feature v84 (0.004932)\n",
      "48. feature v88 (0.004918)\n",
      "49. feature v121 (0.004901)\n",
      "50. feature v80 (0.004899)\n",
      "51. feature v67 (0.004896)\n",
      "52. feature v47_A (0.004896)\n",
      "53. feature v50 (0.004846)\n",
      "54. feature v62 (0.004835)\n",
      "55. feature v87 (0.004812)\n",
      "56. feature v38 (0.004809)\n",
      "57. feature v24_B (0.004800)\n",
      "58. feature v130 (0.004799)\n",
      "59. feature v104 (0.004753)\n",
      "60. feature v25 (0.004740)\n",
      "61. feature v83 (0.004739)\n",
      "62. feature v16 (0.004738)\n",
      "63. feature v45 (0.004736)\n",
      "64. feature v47_E (0.004690)\n",
      "65. feature v36 (0.004689)\n",
      "66. feature v24_D (0.004680)\n",
      "67. feature v15 (0.004680)\n",
      "68. feature v35 (0.004666)\n",
      "69. feature v9 (0.004655)\n",
      "70. feature v24_A (0.004652)\n",
      "71. feature v47_F (0.004651)\n",
      "72. feature v8 (0.004645)\n",
      "73. feature v26 (0.004634)\n",
      "74. feature v11 (0.004621)\n",
      "75. feature v20 (0.004601)\n",
      "76. feature v100 (0.004597)\n",
      "77. feature v90 (0.004586)\n",
      "78. feature v53 (0.004583)\n",
      "79. feature v96 (0.004575)\n",
      "80. feature v93 (0.004571)\n",
      "81. feature v59 (0.004562)\n",
      "82. feature v19 (0.004561)\n",
      "83. feature v72 (0.004533)\n",
      "84. feature v78 (0.004532)\n",
      "85. feature v58 (0.004529)\n",
      "86. feature v7 (0.004523)\n",
      "87. feature v41 (0.004520)\n",
      "88. feature v92 (0.004510)\n",
      "89. feature v43 (0.004507)\n",
      "90. feature v103 (0.004483)\n",
      "91. feature v32 (0.004477)\n",
      "92. feature v115 (0.004459)\n",
      "93. feature v99 (0.004444)\n",
      "94. feature v106 (0.004414)\n",
      "95. feature v54 (0.004395)\n",
      "96. feature v27 (0.004389)\n",
      "97. feature v102 (0.004388)\n",
      "98. feature v52_I (0.004375)\n",
      "99. feature v60 (0.004371)\n",
      "100. feature v13 (0.004344)\n",
      "101. feature v129 (0.004327)\n",
      "102. feature v4 (0.004283)\n",
      "103. feature v2 (0.004242)\n",
      "104. feature v94 (0.004242)\n",
      "105. feature v126 (0.004226)\n",
      "106. feature v57 (0.004222)\n",
      "107. feature v33 (0.004212)\n",
      "108. feature v117 (0.004210)\n"
     ]
    },
    {
     "data": {
      "image/png": "[encoded data removed]",
      "text/plain": [
       "<matplotlib.figure.Figure at 0x1428dab70>"
      ]
     },
     "metadata": {},
     "output_type": "display_data"
    }
   ],
   "source": [
    "importances = clf.feature_importances_\n",
    "std = np.std([tree.feature_importances_ for tree in clf.estimators_],\n",
    "             axis=0)\n",
    "indices = np.argsort(importances)[::-1]\n",
    "cols = X_df_train.columns.values\n",
    "# Print the feature ranking\n",
    "print(\"Feature ranking:\")\n",
    "\n",
    "for f in range(X.shape[1]):\n",
    "    print(\"%d. feature %s (%f)\" % (f + 1, cols[indices[f]], importances[indices[f]]))\n",
    "\n",
    "# Plot the feature importances of the forest\n",
    "plt.figure()\n",
    "plt.title(\"Feature importances\")\n",
    "\n",
    "lim = -1\n",
    "plt.bar(range(X_train.shape[1])[:lim], importances[indices][:lim],\n",
    "       color=\"r\", yerr=std[indices][:lim], align=\"center\")\n",
    "plt.xticks(range(X_train.shape[1])[:lim], np.array(cols)[indices[:lim]])\n",
    "plt.xlim([-1, max(np.arange(X_train.shape[1])[:lim])])\n",
    "plt.show()"
   ]
  },
  {
   "cell_type": "code",
   "execution_count": 149,
   "metadata": {
    "collapsed": false
   },
   "outputs": [
    {
     "data": {
      "text/plain": [
       "array(['v10', 'v12', 'v14', 'v21', 'v34', 'v40', 'v50', 'v114'], dtype=object)"
      ]
     },
     "execution_count": 149,
     "metadata": {},
     "output_type": "execute_result"
    }
   ],
   "source": []
  },
  {
   "cell_type": "code",
   "execution_count": 156,
   "metadata": {
    "collapsed": false
   },
   "outputs": [],
   "source": [
    "# imp_features = cols[importances>0.002]"
   ]
  },
  {
   "cell_type": "code",
   "execution_count": null,
   "metadata": {
    "collapsed": true
   },
   "outputs": [],
   "source": []
  },
  {
   "cell_type": "code",
   "execution_count": null,
   "metadata": {
    "collapsed": true
   },
   "outputs": [],
   "source": []
  },
  {
   "cell_type": "code",
   "execution_count": null,
   "metadata": {
    "collapsed": true
   },
   "outputs": [],
   "source": []
  },
  {
   "cell_type": "code",
   "execution_count": null,
   "metadata": {
    "collapsed": true
   },
   "outputs": [],
   "source": []
  },
  {
   "cell_type": "code",
   "execution_count": null,
   "metadata": {
    "collapsed": true
   },
   "outputs": [],
   "source": []
  }
 ],
 "metadata": {
  "kernelspec": {
   "display_name": "Python 3",
   "language": "python",
   "name": "python3"
  },
  "language_info": {
   "codemirror_mode": {
    "name": "ipython",
    "version": 3
   },
   "file_extension": ".py",
   "mimetype": "text/x-python",
   "name": "python",
   "nbconvert_exporter": "python",
   "pygments_lexer": "ipython3",
   "version": "3.5.1"
  }
 },
 "nbformat": 4,
 "nbformat_minor": 0
}
